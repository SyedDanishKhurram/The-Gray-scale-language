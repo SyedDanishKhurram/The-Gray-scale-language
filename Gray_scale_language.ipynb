{
  "nbformat": 4,
  "nbformat_minor": 0,
  "metadata": {
    "colab": {
      "provenance": [],
      "authorship_tag": "ABX9TyPa/u4hXq3TAze4vn6ZQMoe",
      "include_colab_link": true
    },
    "kernelspec": {
      "name": "python3",
      "display_name": "Python 3"
    },
    "language_info": {
      "name": "python"
    }
  },
  "cells": [
    {
      "cell_type": "markdown",
      "metadata": {
        "id": "view-in-github",
        "colab_type": "text"
      },
      "source": [
        "<a href=\"https://colab.research.google.com/github/SyedDanishKhurram/The-Gray-scale-language/blob/main/Gray_scale_language.ipynb\" target=\"_parent\"><img src=\"https://colab.research.google.com/assets/colab-badge.svg\" alt=\"Open In Colab\"/></a>"
      ]
    },
    {
      "cell_type": "code",
      "execution_count": null,
      "metadata": {
        "id": "mAvL0Qv9NY_P"
      },
      "outputs": [],
      "source": []
    },
    {
      "cell_type": "markdown",
      "source": [
        "1. Scala's real-world project repository data\n",
        "With almost 30k commits and a history spanning over ten years, Scala is a mature programming language. It is a general-purpose programming language that has recently become another prominent language for data scientists.\n",
        "\n",
        "Scala is also an open source project. Open source projects have the advantage that their entire development histories -- who made changes, what was changed, code reviews, etc. -- are publicly available.\n",
        "\n",
        "We're going to read in, clean up, and visualize the real world project repository of Scala that spans data from a version control system (Git) as well as a project hosting site (GitHub). We will find out who has had the most influence on its development and who are the experts.\n",
        "\n",
        "The dataset we will use, which has been previously mined and extracted from GitHub, is comprised of three files:\n",
        "\n",
        "pulls_2011-2013.csv contains the basic information about the pull requests, and spans from the end of 2011 up to (but not including) 2014.\n",
        "pulls_2014-2018.csv contains identical information, and spans from 2014 up to 2018.\n",
        "pull_files.csv contains the files that were modified by each pull request."
      ],
      "metadata": {
        "id": "RY5FayhxZX6k"
      }
    },
    {
      "cell_type": "code",
      "source": [
        "# importing pands numpy and other important lib\n",
        "import pandas as pd\n",
        "import numpy as np\n",
        "import matplotlib.pyplot as plt\n",
        "import seaborn as sns"
      ],
      "metadata": {
        "id": "W1Gg6Ly9dVUK"
      },
      "execution_count": null,
      "outputs": []
    },
    {
      "cell_type": "code",
      "source": [
        "p1 = pd.read_csv('/content/pull_files.csv')"
      ],
      "metadata": {
        "id": "2ArKxUJNg5Jz"
      },
      "execution_count": null,
      "outputs": []
    },
    {
      "cell_type": "code",
      "source": [
        "p2 = pd.read_csv('/content/pulls_2011-2013.csv')"
      ],
      "metadata": {
        "id": "FubLlbwbhlSp"
      },
      "execution_count": null,
      "outputs": []
    },
    {
      "cell_type": "code",
      "source": [
        "p3 = pd.read_csv('/content/pulls_2014-2018.csv')\n",
        "pull_files = pd.read_csv('/content/pull_files.csv')"
      ],
      "metadata": {
        "id": "76OxUuQ_hwQO"
      },
      "execution_count": null,
      "outputs": []
    },
    {
      "cell_type": "markdown",
      "source": [
        "# **Preparing Data and cleaning it**\n",
        "As panda is a library and it converts the time and date into a striing we will convert it first so it will help us to in analysis\n",
        "since we have 2 files for the data we will be using 2 keys to add together using append\n"
      ],
      "metadata": {
        "id": "ps7JB4NHh7ee"
      }
    },
    {
      "cell_type": "code",
      "source": [
        "pulls = pd.concat([p2,p3])\n",
        "pulls['date'] = pd.to_datetime(pulls['date'], utc=True)"
      ],
      "metadata": {
        "id": "3NKgKp7fh072"
      },
      "execution_count": null,
      "outputs": []
    },
    {
      "cell_type": "markdown",
      "source": [
        "# Merging data"
      ],
      "metadata": {
        "id": "lV7c1hca_6uR"
      }
    },
    {
      "cell_type": "code",
      "source": [
        "data = pd.merge(pulls, pull_files, on='pid')\n"
      ],
      "metadata": {
        "id": "WtiAyqaExCei"
      },
      "execution_count": null,
      "outputs": []
    },
    {
      "cell_type": "code",
      "source": [
        "data"
      ],
      "metadata": {
        "colab": {
          "base_uri": "https://localhost:8080/",
          "height": 617
        },
        "id": "1-Gv26MjAJkz",
        "outputId": "88bc38d3-b2ed-43a0-84f6-e90c1a6b089b"
      },
      "execution_count": null,
      "outputs": [
        {
          "output_type": "execute_result",
          "data": {
            "text/plain": [
              "            pid         user                      date  \\\n",
              "0      11166973  VladimirNik 2013-12-31 23:10:55+00:00   \n",
              "1      11166973  VladimirNik 2013-12-31 23:10:55+00:00   \n",
              "2      11166973  VladimirNik 2013-12-31 23:10:55+00:00   \n",
              "3      11166973  VladimirNik 2013-12-31 23:10:55+00:00   \n",
              "4      11161892      Ichoran 2013-12-31 16:55:47+00:00   \n",
              "...         ...          ...                       ...   \n",
              "85583  11231462      rklaehn 2014-01-04 22:42:02+00:00   \n",
              "85584  11188295      rklaehn 2014-01-02 18:55:33+00:00   \n",
              "85585  11188295      rklaehn 2014-01-02 18:55:33+00:00   \n",
              "85586  11188295      rklaehn 2014-01-02 18:55:33+00:00   \n",
              "85587  11188295      rklaehn 2014-01-02 18:55:33+00:00   \n",
              "\n",
              "                                                    file  \n",
              "0           src/reflect/scala/reflect/api/Printers.scala  \n",
              "1      src/reflect/scala/reflect/internal/Printers.scala  \n",
              "2                        test/files/run/reify_ann3.check  \n",
              "3      test/junit/scala/reflect/internal/PrintersTest...  \n",
              "4      src/library/scala/collection/mutable/ArrayOps....  \n",
              "...                                                  ...  \n",
              "85583  src/library/scala/collection/immutable/HashSet...  \n",
              "85584  src/library/scala/collection/immutable/HashSet...  \n",
              "85585                        test/files/run/t6253a.scala  \n",
              "85586                        test/files/run/t6253b.scala  \n",
              "85587                        test/files/run/t6253c.scala  \n",
              "\n",
              "[85588 rows x 4 columns]"
            ],
            "text/html": [
              "\n",
              "  <div id=\"df-85f5dc48-6b3d-4e8e-97e5-7aef32f493b4\" class=\"colab-df-container\">\n",
              "    <div>\n",
              "<style scoped>\n",
              "    .dataframe tbody tr th:only-of-type {\n",
              "        vertical-align: middle;\n",
              "    }\n",
              "\n",
              "    .dataframe tbody tr th {\n",
              "        vertical-align: top;\n",
              "    }\n",
              "\n",
              "    .dataframe thead th {\n",
              "        text-align: right;\n",
              "    }\n",
              "</style>\n",
              "<table border=\"1\" class=\"dataframe\">\n",
              "  <thead>\n",
              "    <tr style=\"text-align: right;\">\n",
              "      <th></th>\n",
              "      <th>pid</th>\n",
              "      <th>user</th>\n",
              "      <th>date</th>\n",
              "      <th>file</th>\n",
              "    </tr>\n",
              "  </thead>\n",
              "  <tbody>\n",
              "    <tr>\n",
              "      <th>0</th>\n",
              "      <td>11166973</td>\n",
              "      <td>VladimirNik</td>\n",
              "      <td>2013-12-31 23:10:55+00:00</td>\n",
              "      <td>src/reflect/scala/reflect/api/Printers.scala</td>\n",
              "    </tr>\n",
              "    <tr>\n",
              "      <th>1</th>\n",
              "      <td>11166973</td>\n",
              "      <td>VladimirNik</td>\n",
              "      <td>2013-12-31 23:10:55+00:00</td>\n",
              "      <td>src/reflect/scala/reflect/internal/Printers.scala</td>\n",
              "    </tr>\n",
              "    <tr>\n",
              "      <th>2</th>\n",
              "      <td>11166973</td>\n",
              "      <td>VladimirNik</td>\n",
              "      <td>2013-12-31 23:10:55+00:00</td>\n",
              "      <td>test/files/run/reify_ann3.check</td>\n",
              "    </tr>\n",
              "    <tr>\n",
              "      <th>3</th>\n",
              "      <td>11166973</td>\n",
              "      <td>VladimirNik</td>\n",
              "      <td>2013-12-31 23:10:55+00:00</td>\n",
              "      <td>test/junit/scala/reflect/internal/PrintersTest...</td>\n",
              "    </tr>\n",
              "    <tr>\n",
              "      <th>4</th>\n",
              "      <td>11161892</td>\n",
              "      <td>Ichoran</td>\n",
              "      <td>2013-12-31 16:55:47+00:00</td>\n",
              "      <td>src/library/scala/collection/mutable/ArrayOps....</td>\n",
              "    </tr>\n",
              "    <tr>\n",
              "      <th>...</th>\n",
              "      <td>...</td>\n",
              "      <td>...</td>\n",
              "      <td>...</td>\n",
              "      <td>...</td>\n",
              "    </tr>\n",
              "    <tr>\n",
              "      <th>85583</th>\n",
              "      <td>11231462</td>\n",
              "      <td>rklaehn</td>\n",
              "      <td>2014-01-04 22:42:02+00:00</td>\n",
              "      <td>src/library/scala/collection/immutable/HashSet...</td>\n",
              "    </tr>\n",
              "    <tr>\n",
              "      <th>85584</th>\n",
              "      <td>11188295</td>\n",
              "      <td>rklaehn</td>\n",
              "      <td>2014-01-02 18:55:33+00:00</td>\n",
              "      <td>src/library/scala/collection/immutable/HashSet...</td>\n",
              "    </tr>\n",
              "    <tr>\n",
              "      <th>85585</th>\n",
              "      <td>11188295</td>\n",
              "      <td>rklaehn</td>\n",
              "      <td>2014-01-02 18:55:33+00:00</td>\n",
              "      <td>test/files/run/t6253a.scala</td>\n",
              "    </tr>\n",
              "    <tr>\n",
              "      <th>85586</th>\n",
              "      <td>11188295</td>\n",
              "      <td>rklaehn</td>\n",
              "      <td>2014-01-02 18:55:33+00:00</td>\n",
              "      <td>test/files/run/t6253b.scala</td>\n",
              "    </tr>\n",
              "    <tr>\n",
              "      <th>85587</th>\n",
              "      <td>11188295</td>\n",
              "      <td>rklaehn</td>\n",
              "      <td>2014-01-02 18:55:33+00:00</td>\n",
              "      <td>test/files/run/t6253c.scala</td>\n",
              "    </tr>\n",
              "  </tbody>\n",
              "</table>\n",
              "<p>85588 rows × 4 columns</p>\n",
              "</div>\n",
              "    <div class=\"colab-df-buttons\">\n",
              "\n",
              "  <div class=\"colab-df-container\">\n",
              "    <button class=\"colab-df-convert\" onclick=\"convertToInteractive('df-85f5dc48-6b3d-4e8e-97e5-7aef32f493b4')\"\n",
              "            title=\"Convert this dataframe to an interactive table.\"\n",
              "            style=\"display:none;\">\n",
              "\n",
              "  <svg xmlns=\"http://www.w3.org/2000/svg\" height=\"24px\" viewBox=\"0 -960 960 960\">\n",
              "    <path d=\"M120-120v-720h720v720H120Zm60-500h600v-160H180v160Zm220 220h160v-160H400v160Zm0 220h160v-160H400v160ZM180-400h160v-160H180v160Zm440 0h160v-160H620v160ZM180-180h160v-160H180v160Zm440 0h160v-160H620v160Z\"/>\n",
              "  </svg>\n",
              "    </button>\n",
              "\n",
              "  <style>\n",
              "    .colab-df-container {\n",
              "      display:flex;\n",
              "      gap: 12px;\n",
              "    }\n",
              "\n",
              "    .colab-df-convert {\n",
              "      background-color: #E8F0FE;\n",
              "      border: none;\n",
              "      border-radius: 50%;\n",
              "      cursor: pointer;\n",
              "      display: none;\n",
              "      fill: #1967D2;\n",
              "      height: 32px;\n",
              "      padding: 0 0 0 0;\n",
              "      width: 32px;\n",
              "    }\n",
              "\n",
              "    .colab-df-convert:hover {\n",
              "      background-color: #E2EBFA;\n",
              "      box-shadow: 0px 1px 2px rgba(60, 64, 67, 0.3), 0px 1px 3px 1px rgba(60, 64, 67, 0.15);\n",
              "      fill: #174EA6;\n",
              "    }\n",
              "\n",
              "    .colab-df-buttons div {\n",
              "      margin-bottom: 4px;\n",
              "    }\n",
              "\n",
              "    [theme=dark] .colab-df-convert {\n",
              "      background-color: #3B4455;\n",
              "      fill: #D2E3FC;\n",
              "    }\n",
              "\n",
              "    [theme=dark] .colab-df-convert:hover {\n",
              "      background-color: #434B5C;\n",
              "      box-shadow: 0px 1px 3px 1px rgba(0, 0, 0, 0.15);\n",
              "      filter: drop-shadow(0px 1px 2px rgba(0, 0, 0, 0.3));\n",
              "      fill: #FFFFFF;\n",
              "    }\n",
              "  </style>\n",
              "\n",
              "    <script>\n",
              "      const buttonEl =\n",
              "        document.querySelector('#df-85f5dc48-6b3d-4e8e-97e5-7aef32f493b4 button.colab-df-convert');\n",
              "      buttonEl.style.display =\n",
              "        google.colab.kernel.accessAllowed ? 'block' : 'none';\n",
              "\n",
              "      async function convertToInteractive(key) {\n",
              "        const element = document.querySelector('#df-85f5dc48-6b3d-4e8e-97e5-7aef32f493b4');\n",
              "        const dataTable =\n",
              "          await google.colab.kernel.invokeFunction('convertToInteractive',\n",
              "                                                    [key], {});\n",
              "        if (!dataTable) return;\n",
              "\n",
              "        const docLinkHtml = 'Like what you see? Visit the ' +\n",
              "          '<a target=\"_blank\" href=https://colab.research.google.com/notebooks/data_table.ipynb>data table notebook</a>'\n",
              "          + ' to learn more about interactive tables.';\n",
              "        element.innerHTML = '';\n",
              "        dataTable['output_type'] = 'display_data';\n",
              "        await google.colab.output.renderOutput(dataTable, element);\n",
              "        const docLink = document.createElement('div');\n",
              "        docLink.innerHTML = docLinkHtml;\n",
              "        element.appendChild(docLink);\n",
              "      }\n",
              "    </script>\n",
              "  </div>\n",
              "\n",
              "\n",
              "<div id=\"df-1d191bda-3da7-4141-a106-ec837027abde\">\n",
              "  <button class=\"colab-df-quickchart\" onclick=\"quickchart('df-1d191bda-3da7-4141-a106-ec837027abde')\"\n",
              "            title=\"Suggest charts\"\n",
              "            style=\"display:none;\">\n",
              "\n",
              "<svg xmlns=\"http://www.w3.org/2000/svg\" height=\"24px\"viewBox=\"0 0 24 24\"\n",
              "     width=\"24px\">\n",
              "    <g>\n",
              "        <path d=\"M19 3H5c-1.1 0-2 .9-2 2v14c0 1.1.9 2 2 2h14c1.1 0 2-.9 2-2V5c0-1.1-.9-2-2-2zM9 17H7v-7h2v7zm4 0h-2V7h2v10zm4 0h-2v-4h2v4z\"/>\n",
              "    </g>\n",
              "</svg>\n",
              "  </button>\n",
              "\n",
              "<style>\n",
              "  .colab-df-quickchart {\n",
              "      --bg-color: #E8F0FE;\n",
              "      --fill-color: #1967D2;\n",
              "      --hover-bg-color: #E2EBFA;\n",
              "      --hover-fill-color: #174EA6;\n",
              "      --disabled-fill-color: #AAA;\n",
              "      --disabled-bg-color: #DDD;\n",
              "  }\n",
              "\n",
              "  [theme=dark] .colab-df-quickchart {\n",
              "      --bg-color: #3B4455;\n",
              "      --fill-color: #D2E3FC;\n",
              "      --hover-bg-color: #434B5C;\n",
              "      --hover-fill-color: #FFFFFF;\n",
              "      --disabled-bg-color: #3B4455;\n",
              "      --disabled-fill-color: #666;\n",
              "  }\n",
              "\n",
              "  .colab-df-quickchart {\n",
              "    background-color: var(--bg-color);\n",
              "    border: none;\n",
              "    border-radius: 50%;\n",
              "    cursor: pointer;\n",
              "    display: none;\n",
              "    fill: var(--fill-color);\n",
              "    height: 32px;\n",
              "    padding: 0;\n",
              "    width: 32px;\n",
              "  }\n",
              "\n",
              "  .colab-df-quickchart:hover {\n",
              "    background-color: var(--hover-bg-color);\n",
              "    box-shadow: 0 1px 2px rgba(60, 64, 67, 0.3), 0 1px 3px 1px rgba(60, 64, 67, 0.15);\n",
              "    fill: var(--button-hover-fill-color);\n",
              "  }\n",
              "\n",
              "  .colab-df-quickchart-complete:disabled,\n",
              "  .colab-df-quickchart-complete:disabled:hover {\n",
              "    background-color: var(--disabled-bg-color);\n",
              "    fill: var(--disabled-fill-color);\n",
              "    box-shadow: none;\n",
              "  }\n",
              "\n",
              "  .colab-df-spinner {\n",
              "    border: 2px solid var(--fill-color);\n",
              "    border-color: transparent;\n",
              "    border-bottom-color: var(--fill-color);\n",
              "    animation:\n",
              "      spin 1s steps(1) infinite;\n",
              "  }\n",
              "\n",
              "  @keyframes spin {\n",
              "    0% {\n",
              "      border-color: transparent;\n",
              "      border-bottom-color: var(--fill-color);\n",
              "      border-left-color: var(--fill-color);\n",
              "    }\n",
              "    20% {\n",
              "      border-color: transparent;\n",
              "      border-left-color: var(--fill-color);\n",
              "      border-top-color: var(--fill-color);\n",
              "    }\n",
              "    30% {\n",
              "      border-color: transparent;\n",
              "      border-left-color: var(--fill-color);\n",
              "      border-top-color: var(--fill-color);\n",
              "      border-right-color: var(--fill-color);\n",
              "    }\n",
              "    40% {\n",
              "      border-color: transparent;\n",
              "      border-right-color: var(--fill-color);\n",
              "      border-top-color: var(--fill-color);\n",
              "    }\n",
              "    60% {\n",
              "      border-color: transparent;\n",
              "      border-right-color: var(--fill-color);\n",
              "    }\n",
              "    80% {\n",
              "      border-color: transparent;\n",
              "      border-right-color: var(--fill-color);\n",
              "      border-bottom-color: var(--fill-color);\n",
              "    }\n",
              "    90% {\n",
              "      border-color: transparent;\n",
              "      border-bottom-color: var(--fill-color);\n",
              "    }\n",
              "  }\n",
              "</style>\n",
              "\n",
              "  <script>\n",
              "    async function quickchart(key) {\n",
              "      const quickchartButtonEl =\n",
              "        document.querySelector('#' + key + ' button');\n",
              "      quickchartButtonEl.disabled = true;  // To prevent multiple clicks.\n",
              "      quickchartButtonEl.classList.add('colab-df-spinner');\n",
              "      try {\n",
              "        const charts = await google.colab.kernel.invokeFunction(\n",
              "            'suggestCharts', [key], {});\n",
              "      } catch (error) {\n",
              "        console.error('Error during call to suggestCharts:', error);\n",
              "      }\n",
              "      quickchartButtonEl.classList.remove('colab-df-spinner');\n",
              "      quickchartButtonEl.classList.add('colab-df-quickchart-complete');\n",
              "    }\n",
              "    (() => {\n",
              "      let quickchartButtonEl =\n",
              "        document.querySelector('#df-1d191bda-3da7-4141-a106-ec837027abde button');\n",
              "      quickchartButtonEl.style.display =\n",
              "        google.colab.kernel.accessAllowed ? 'block' : 'none';\n",
              "    })();\n",
              "  </script>\n",
              "</div>\n",
              "\n",
              "  <div id=\"id_6fd59568-5d2a-429e-8004-196ea1c7340d\">\n",
              "    <style>\n",
              "      .colab-df-generate {\n",
              "        background-color: #E8F0FE;\n",
              "        border: none;\n",
              "        border-radius: 50%;\n",
              "        cursor: pointer;\n",
              "        display: none;\n",
              "        fill: #1967D2;\n",
              "        height: 32px;\n",
              "        padding: 0 0 0 0;\n",
              "        width: 32px;\n",
              "      }\n",
              "\n",
              "      .colab-df-generate:hover {\n",
              "        background-color: #E2EBFA;\n",
              "        box-shadow: 0px 1px 2px rgba(60, 64, 67, 0.3), 0px 1px 3px 1px rgba(60, 64, 67, 0.15);\n",
              "        fill: #174EA6;\n",
              "      }\n",
              "\n",
              "      [theme=dark] .colab-df-generate {\n",
              "        background-color: #3B4455;\n",
              "        fill: #D2E3FC;\n",
              "      }\n",
              "\n",
              "      [theme=dark] .colab-df-generate:hover {\n",
              "        background-color: #434B5C;\n",
              "        box-shadow: 0px 1px 3px 1px rgba(0, 0, 0, 0.15);\n",
              "        filter: drop-shadow(0px 1px 2px rgba(0, 0, 0, 0.3));\n",
              "        fill: #FFFFFF;\n",
              "      }\n",
              "    </style>\n",
              "    <button class=\"colab-df-generate\" onclick=\"generateWithVariable('data')\"\n",
              "            title=\"Generate code using this dataframe.\"\n",
              "            style=\"display:none;\">\n",
              "\n",
              "  <svg xmlns=\"http://www.w3.org/2000/svg\" height=\"24px\"viewBox=\"0 0 24 24\"\n",
              "       width=\"24px\">\n",
              "    <path d=\"M7,19H8.4L18.45,9,17,7.55,7,17.6ZM5,21V16.75L18.45,3.32a2,2,0,0,1,2.83,0l1.4,1.43a1.91,1.91,0,0,1,.58,1.4,1.91,1.91,0,0,1-.58,1.4L9.25,21ZM18.45,9,17,7.55Zm-12,3A5.31,5.31,0,0,0,4.9,8.1,5.31,5.31,0,0,0,1,6.5,5.31,5.31,0,0,0,4.9,4.9,5.31,5.31,0,0,0,6.5,1,5.31,5.31,0,0,0,8.1,4.9,5.31,5.31,0,0,0,12,6.5,5.46,5.46,0,0,0,6.5,12Z\"/>\n",
              "  </svg>\n",
              "    </button>\n",
              "    <script>\n",
              "      (() => {\n",
              "      const buttonEl =\n",
              "        document.querySelector('#id_6fd59568-5d2a-429e-8004-196ea1c7340d button.colab-df-generate');\n",
              "      buttonEl.style.display =\n",
              "        google.colab.kernel.accessAllowed ? 'block' : 'none';\n",
              "\n",
              "      buttonEl.onclick = () => {\n",
              "        google.colab.notebook.generateWithVariable('data');\n",
              "      }\n",
              "      })();\n",
              "    </script>\n",
              "  </div>\n",
              "\n",
              "    </div>\n",
              "  </div>\n"
            ],
            "application/vnd.google.colaboratory.intrinsic+json": {
              "type": "dataframe",
              "variable_name": "data",
              "summary": "{\n  \"name\": \"data\",\n  \"rows\": 85588,\n  \"fields\": [\n    {\n      \"column\": \"pid\",\n      \"properties\": {\n        \"dtype\": \"number\",\n        \"std\": 37291496,\n        \"min\": 547003,\n        \"max\": 163314316,\n        \"num_unique_values\": 6179,\n        \"samples\": [\n          116706258,\n          4896874,\n          1732861\n        ],\n        \"semantic_type\": \"\",\n        \"description\": \"\"\n      }\n    },\n    {\n      \"column\": \"user\",\n      \"properties\": {\n        \"dtype\": \"category\",\n        \"num_unique_values\": 464,\n        \"samples\": [\n          \"retronym\",\n          \"RajivKurian\",\n          \"jamesward\"\n        ],\n        \"semantic_type\": \"\",\n        \"description\": \"\"\n      }\n    },\n    {\n      \"column\": \"date\",\n      \"properties\": {\n        \"dtype\": \"date\",\n        \"min\": \"2011-12-01 11:42:26+00:00\",\n        \"max\": \"2018-01-16 23:29:16+00:00\",\n        \"num_unique_values\": 6179,\n        \"samples\": [\n          \"2017-04-20 07:25:33+00:00\",\n          \"2013-03-30 11:57:41+00:00\",\n          \"2012-07-06 15:22:34+00:00\"\n        ],\n        \"semantic_type\": \"\",\n        \"description\": \"\"\n      }\n    },\n    {\n      \"column\": \"file\",\n      \"properties\": {\n        \"dtype\": \"category\",\n        \"num_unique_values\": 14992,\n        \"samples\": [\n          \"test/files/pos/switch-small.flags\",\n          \"test/files/pos/t8363.scala\",\n          \"test/files/run/reify_maps.check\"\n        ],\n        \"semantic_type\": \"\",\n        \"description\": \"\"\n      }\n    }\n  ]\n}"
            }
          },
          "metadata": {},
          "execution_count": 7
        }
      ]
    },
    {
      "cell_type": "markdown",
      "source": [
        "here we will be making the columns of month and year and then checking it in a form of graph\n"
      ],
      "metadata": {
        "id": "UU8FT8yemX8p"
      }
    },
    {
      "cell_type": "code",
      "source": [
        "data[\"month\"] = data[\"date\"].dt.month\n",
        "data[\"year\"] = data[\"date\"].dt.year\n"
      ],
      "metadata": {
        "id": "6YkfrPK3AVYT"
      },
      "execution_count": null,
      "outputs": []
    },
    {
      "cell_type": "code",
      "source": [
        "counts = data.groupby(['month', 'year']).agg({'pid': 'count'}).rename(columns={'pid': 'count'})"
      ],
      "metadata": {
        "id": "1KHSyihFx5iy"
      },
      "execution_count": null,
      "outputs": []
    },
    {
      "cell_type": "code",
      "source": [
        "counts.plot(kind='bar', figsize=(12,4))\n",
        "plt.show()"
      ],
      "metadata": {
        "colab": {
          "base_uri": "https://localhost:8080/",
          "height": 300
        },
        "id": "_zADuNUp6HFe",
        "outputId": "f626ee4c-9e04-4353-cf73-dd43a96b29fa"
      },
      "execution_count": null,
      "outputs": [
        {
          "output_type": "display_data",
          "data": {
            "text/plain": [
              "<Figure size 1200x400 with 1 Axes>"
            ],
            "image/png": "[encoded data removed]"
          },
          "metadata": {}
        }
      ]
    },
    {
      "cell_type": "markdown",
      "source": [
        "The camaraderie in the project\n",
        " analyzing and visualizing the number of pull requests submitted by each user.\n",
        " This code counts the number of pull requests submitted by each user and visualizes it using a bar chart. It's useful for understanding contribution patterns in a project. 🚀"
      ],
      "metadata": {
        "id": "BbZsFRcd6av3"
      }
    },
    {
      "cell_type": "code",
      "source": [
        "%matplotlib inline\n",
        "by_user = data.groupby(['user']).agg({'pid': 'count'}).rename(columns={'pid': 'count'})\n",
        "by_user.plot(kind='bar')"
      ],
      "metadata": {
        "colab": {
          "base_uri": "https://localhost:8080/",
          "height": 607
        },
        "id": "czNNLlRk6OAt",
        "outputId": "f3e8aebf-966f-41fd-8ebf-4b3f1bb8d8b0"
      },
      "execution_count": null,
      "outputs": [
        {
          "output_type": "execute_result",
          "data": {
            "text/plain": [
              "<Axes: xlabel='user'>"
            ]
          },
          "metadata": {},
          "execution_count": 11
        },
        {
          "output_type": "display_data",
          "data": {
            "text/plain": [
              "<Figure size 640x480 with 1 Axes>"
            ],
            "image/png": "[encoded data removed]"
          },
          "metadata": {}
        }
      ]
    },
    {
      "cell_type": "markdown",
      "source": [
        "identifying the last 10 pulls whch were requested then joining the two files"
      ],
      "metadata": {
        "id": "CYiPxlXSst87"
      }
    },
    {
      "cell_type": "code",
      "source": [
        "last_10 = pulls.sort_values(by = 'date').tail(10)\n",
        "joined_pr = pull_files.merge(last_10, on='pid')\n",
        "files = set(  joined_pr['file'])\n",
        "files"
      ],
      "metadata": {
        "colab": {
          "base_uri": "https://localhost:8080/"
        },
        "id": "9Z3lyAarMAJw",
        "outputId": "71a18fa2-d5b8-4098-f72f-f28e7d56e6f8"
      },
      "execution_count": null,
      "outputs": [
        {
          "output_type": "execute_result",
          "data": {
            "text/plain": [
              "{'LICENSE',\n",
              " 'doc/LICENSE.md',\n",
              " 'doc/License.rtf',\n",
              " 'project/VersionUtil.scala',\n",
              " 'src/compiler/scala/reflect/reify/phases/Calculate.scala',\n",
              " 'src/compiler/scala/tools/nsc/backend/jvm/BCodeHelpers.scala',\n",
              " 'src/compiler/scala/tools/nsc/backend/jvm/PostProcessor.scala',\n",
              " 'src/compiler/scala/tools/nsc/backend/jvm/analysis/BackendUtils.scala',\n",
              " 'src/compiler/scala/tools/nsc/profile/AsyncHelper.scala',\n",
              " 'src/compiler/scala/tools/nsc/profile/Profiler.scala',\n",
              " 'src/compiler/scala/tools/nsc/symtab/classfile/ClassfileParser.scala',\n",
              " 'src/compiler/scala/tools/nsc/typechecker/Contexts.scala',\n",
              " 'src/library/scala/Predef.scala',\n",
              " 'src/library/scala/concurrent/Lock.scala',\n",
              " 'src/library/scala/util/Properties.scala',\n",
              " 'src/reflect/scala/reflect/internal/pickling/ByteCodecs.scala',\n",
              " 'src/reflect/scala/reflect/internal/tpe/GlbLubs.scala',\n",
              " 'src/scaladoc/scala/tools/nsc/doc/html/page/Entity.scala',\n",
              " 'src/scalap/decoder.properties',\n",
              " 'test/files/neg/leibniz-liskov.check',\n",
              " 'test/files/neg/leibniz-liskov.scala',\n",
              " 'test/files/pos/leibniz-liskov.scala',\n",
              " 'test/files/pos/leibniz_liskov.scala',\n",
              " 'test/files/pos/parallel-classloader.scala',\n",
              " 'test/files/pos/t10568/Converter.java',\n",
              " 'test/files/pos/t10568/Impl.scala',\n",
              " 'test/files/pos/t10686.scala',\n",
              " 'test/files/pos/t5638/Among.java',\n",
              " 'test/files/pos/t5638/Usage.scala',\n",
              " 'test/files/pos/t9291.scala',\n",
              " 'test/files/run/t8348.check',\n",
              " 'test/files/run/t8348/TableColumn.java',\n",
              " 'test/files/run/t8348/TableColumnImpl.java',\n",
              " 'test/files/run/t8348/Test.scala'}"
            ]
          },
          "metadata": {},
          "execution_count": 12
        }
      ]
    },
    {
      "cell_type": "markdown",
      "source": [
        "checking who made the most pulls request to the given file\n"
      ],
      "metadata": {
        "id": "swu7s26ThU9i"
      }
    },
    {
      "cell_type": "code",
      "source": [
        "file = 'src/compiler/scala/reflect/reify/phases/Calculate.scala'\n",
        "file_pr = data[data['file'] == file]\n",
        "author_counts = file_pr.groupby('user').count()\n",
        "author_counts.nlargest(3, 'file')"
      ],
      "metadata": {
        "id": "JWMNGHAZNsh5",
        "colab": {
          "base_uri": "https://localhost:8080/",
          "height": 175
        },
        "outputId": "e12c8dfa-c436-4de1-da87-f89b29160b36"
      },
      "execution_count": null,
      "outputs": [
        {
          "output_type": "execute_result",
          "data": {
            "text/plain": [
              "          pid  date  file  month  year\n",
              "user                                  \n",
              "xeno-by    11    11    11     11    11\n",
              "retronym    5     5     5      5     5\n",
              "soc         4     4     4      4     4"
            ],
            "text/html": [
              "\n",
              "  <div id=\"df-9f2c2c10-550c-4043-9e02-a1cf3aab4b0e\" class=\"colab-df-container\">\n",
              "    <div>\n",
              "<style scoped>\n",
              "    .dataframe tbody tr th:only-of-type {\n",
              "        vertical-align: middle;\n",
              "    }\n",
              "\n",
              "    .dataframe tbody tr th {\n",
              "        vertical-align: top;\n",
              "    }\n",
              "\n",
              "    .dataframe thead th {\n",
              "        text-align: right;\n",
              "    }\n",
              "</style>\n",
              "<table border=\"1\" class=\"dataframe\">\n",
              "  <thead>\n",
              "    <tr style=\"text-align: right;\">\n",
              "      <th></th>\n",
              "      <th>pid</th>\n",
              "      <th>date</th>\n",
              "      <th>file</th>\n",
              "      <th>month</th>\n",
              "      <th>year</th>\n",
              "    </tr>\n",
              "    <tr>\n",
              "      <th>user</th>\n",
              "      <th></th>\n",
              "      <th></th>\n",
              "      <th></th>\n",
              "      <th></th>\n",
              "      <th></th>\n",
              "    </tr>\n",
              "  </thead>\n",
              "  <tbody>\n",
              "    <tr>\n",
              "      <th>xeno-by</th>\n",
              "      <td>11</td>\n",
              "      <td>11</td>\n",
              "      <td>11</td>\n",
              "      <td>11</td>\n",
              "      <td>11</td>\n",
              "    </tr>\n",
              "    <tr>\n",
              "      <th>retronym</th>\n",
              "      <td>5</td>\n",
              "      <td>5</td>\n",
              "      <td>5</td>\n",
              "      <td>5</td>\n",
              "      <td>5</td>\n",
              "    </tr>\n",
              "    <tr>\n",
              "      <th>soc</th>\n",
              "      <td>4</td>\n",
              "      <td>4</td>\n",
              "      <td>4</td>\n",
              "      <td>4</td>\n",
              "      <td>4</td>\n",
              "    </tr>\n",
              "  </tbody>\n",
              "</table>\n",
              "</div>\n",
              "    <div class=\"colab-df-buttons\">\n",
              "\n",
              "  <div class=\"colab-df-container\">\n",
              "    <button class=\"colab-df-convert\" onclick=\"convertToInteractive('df-9f2c2c10-550c-4043-9e02-a1cf3aab4b0e')\"\n",
              "            title=\"Convert this dataframe to an interactive table.\"\n",
              "            style=\"display:none;\">\n",
              "\n",
              "  <svg xmlns=\"http://www.w3.org/2000/svg\" height=\"24px\" viewBox=\"0 -960 960 960\">\n",
              "    <path d=\"M120-120v-720h720v720H120Zm60-500h600v-160H180v160Zm220 220h160v-160H400v160Zm0 220h160v-160H400v160ZM180-400h160v-160H180v160Zm440 0h160v-160H620v160ZM180-180h160v-160H180v160Zm440 0h160v-160H620v160Z\"/>\n",
              "  </svg>\n",
              "    </button>\n",
              "\n",
              "  <style>\n",
              "    .colab-df-container {\n",
              "      display:flex;\n",
              "      gap: 12px;\n",
              "    }\n",
              "\n",
              "    .colab-df-convert {\n",
              "      background-color: #E8F0FE;\n",
              "      border: none;\n",
              "      border-radius: 50%;\n",
              "      cursor: pointer;\n",
              "      display: none;\n",
              "      fill: #1967D2;\n",
              "      height: 32px;\n",
              "      padding: 0 0 0 0;\n",
              "      width: 32px;\n",
              "    }\n",
              "\n",
              "    .colab-df-convert:hover {\n",
              "      background-color: #E2EBFA;\n",
              "      box-shadow: 0px 1px 2px rgba(60, 64, 67, 0.3), 0px 1px 3px 1px rgba(60, 64, 67, 0.15);\n",
              "      fill: #174EA6;\n",
              "    }\n",
              "\n",
              "    .colab-df-buttons div {\n",
              "      margin-bottom: 4px;\n",
              "    }\n",
              "\n",
              "    [theme=dark] .colab-df-convert {\n",
              "      background-color: #3B4455;\n",
              "      fill: #D2E3FC;\n",
              "    }\n",
              "\n",
              "    [theme=dark] .colab-df-convert:hover {\n",
              "      background-color: #434B5C;\n",
              "      box-shadow: 0px 1px 3px 1px rgba(0, 0, 0, 0.15);\n",
              "      filter: drop-shadow(0px 1px 2px rgba(0, 0, 0, 0.3));\n",
              "      fill: #FFFFFF;\n",
              "    }\n",
              "  </style>\n",
              "\n",
              "    <script>\n",
              "      const buttonEl =\n",
              "        document.querySelector('#df-9f2c2c10-550c-4043-9e02-a1cf3aab4b0e button.colab-df-convert');\n",
              "      buttonEl.style.display =\n",
              "        google.colab.kernel.accessAllowed ? 'block' : 'none';\n",
              "\n",
              "      async function convertToInteractive(key) {\n",
              "        const element = document.querySelector('#df-9f2c2c10-550c-4043-9e02-a1cf3aab4b0e');\n",
              "        const dataTable =\n",
              "          await google.colab.kernel.invokeFunction('convertToInteractive',\n",
              "                                                    [key], {});\n",
              "        if (!dataTable) return;\n",
              "\n",
              "        const docLinkHtml = 'Like what you see? Visit the ' +\n",
              "          '<a target=\"_blank\" href=https://colab.research.google.com/notebooks/data_table.ipynb>data table notebook</a>'\n",
              "          + ' to learn more about interactive tables.';\n",
              "        element.innerHTML = '';\n",
              "        dataTable['output_type'] = 'display_data';\n",
              "        await google.colab.output.renderOutput(dataTable, element);\n",
              "        const docLink = document.createElement('div');\n",
              "        docLink.innerHTML = docLinkHtml;\n",
              "        element.appendChild(docLink);\n",
              "      }\n",
              "    </script>\n",
              "  </div>\n",
              "\n",
              "\n",
              "<div id=\"df-448c2a0c-725d-47e6-9e25-c7594aab0316\">\n",
              "  <button class=\"colab-df-quickchart\" onclick=\"quickchart('df-448c2a0c-725d-47e6-9e25-c7594aab0316')\"\n",
              "            title=\"Suggest charts\"\n",
              "            style=\"display:none;\">\n",
              "\n",
              "<svg xmlns=\"http://www.w3.org/2000/svg\" height=\"24px\"viewBox=\"0 0 24 24\"\n",
              "     width=\"24px\">\n",
              "    <g>\n",
              "        <path d=\"M19 3H5c-1.1 0-2 .9-2 2v14c0 1.1.9 2 2 2h14c1.1 0 2-.9 2-2V5c0-1.1-.9-2-2-2zM9 17H7v-7h2v7zm4 0h-2V7h2v10zm4 0h-2v-4h2v4z\"/>\n",
              "    </g>\n",
              "</svg>\n",
              "  </button>\n",
              "\n",
              "<style>\n",
              "  .colab-df-quickchart {\n",
              "      --bg-color: #E8F0FE;\n",
              "      --fill-color: #1967D2;\n",
              "      --hover-bg-color: #E2EBFA;\n",
              "      --hover-fill-color: #174EA6;\n",
              "      --disabled-fill-color: #AAA;\n",
              "      --disabled-bg-color: #DDD;\n",
              "  }\n",
              "\n",
              "  [theme=dark] .colab-df-quickchart {\n",
              "      --bg-color: #3B4455;\n",
              "      --fill-color: #D2E3FC;\n",
              "      --hover-bg-color: #434B5C;\n",
              "      --hover-fill-color: #FFFFFF;\n",
              "      --disabled-bg-color: #3B4455;\n",
              "      --disabled-fill-color: #666;\n",
              "  }\n",
              "\n",
              "  .colab-df-quickchart {\n",
              "    background-color: var(--bg-color);\n",
              "    border: none;\n",
              "    border-radius: 50%;\n",
              "    cursor: pointer;\n",
              "    display: none;\n",
              "    fill: var(--fill-color);\n",
              "    height: 32px;\n",
              "    padding: 0;\n",
              "    width: 32px;\n",
              "  }\n",
              "\n",
              "  .colab-df-quickchart:hover {\n",
              "    background-color: var(--hover-bg-color);\n",
              "    box-shadow: 0 1px 2px rgba(60, 64, 67, 0.3), 0 1px 3px 1px rgba(60, 64, 67, 0.15);\n",
              "    fill: var(--button-hover-fill-color);\n",
              "  }\n",
              "\n",
              "  .colab-df-quickchart-complete:disabled,\n",
              "  .colab-df-quickchart-complete:disabled:hover {\n",
              "    background-color: var(--disabled-bg-color);\n",
              "    fill: var(--disabled-fill-color);\n",
              "    box-shadow: none;\n",
              "  }\n",
              "\n",
              "  .colab-df-spinner {\n",
              "    border: 2px solid var(--fill-color);\n",
              "    border-color: transparent;\n",
              "    border-bottom-color: var(--fill-color);\n",
              "    animation:\n",
              "      spin 1s steps(1) infinite;\n",
              "  }\n",
              "\n",
              "  @keyframes spin {\n",
              "    0% {\n",
              "      border-color: transparent;\n",
              "      border-bottom-color: var(--fill-color);\n",
              "      border-left-color: var(--fill-color);\n",
              "    }\n",
              "    20% {\n",
              "      border-color: transparent;\n",
              "      border-left-color: var(--fill-color);\n",
              "      border-top-color: var(--fill-color);\n",
              "    }\n",
              "    30% {\n",
              "      border-color: transparent;\n",
              "      border-left-color: var(--fill-color);\n",
              "      border-top-color: var(--fill-color);\n",
              "      border-right-color: var(--fill-color);\n",
              "    }\n",
              "    40% {\n",
              "      border-color: transparent;\n",
              "      border-right-color: var(--fill-color);\n",
              "      border-top-color: var(--fill-color);\n",
              "    }\n",
              "    60% {\n",
              "      border-color: transparent;\n",
              "      border-right-color: var(--fill-color);\n",
              "    }\n",
              "    80% {\n",
              "      border-color: transparent;\n",
              "      border-right-color: var(--fill-color);\n",
              "      border-bottom-color: var(--fill-color);\n",
              "    }\n",
              "    90% {\n",
              "      border-color: transparent;\n",
              "      border-bottom-color: var(--fill-color);\n",
              "    }\n",
              "  }\n",
              "</style>\n",
              "\n",
              "  <script>\n",
              "    async function quickchart(key) {\n",
              "      const quickchartButtonEl =\n",
              "        document.querySelector('#' + key + ' button');\n",
              "      quickchartButtonEl.disabled = true;  // To prevent multiple clicks.\n",
              "      quickchartButtonEl.classList.add('colab-df-spinner');\n",
              "      try {\n",
              "        const charts = await google.colab.kernel.invokeFunction(\n",
              "            'suggestCharts', [key], {});\n",
              "      } catch (error) {\n",
              "        console.error('Error during call to suggestCharts:', error);\n",
              "      }\n",
              "      quickchartButtonEl.classList.remove('colab-df-spinner');\n",
              "      quickchartButtonEl.classList.add('colab-df-quickchart-complete');\n",
              "    }\n",
              "    (() => {\n",
              "      let quickchartButtonEl =\n",
              "        document.querySelector('#df-448c2a0c-725d-47e6-9e25-c7594aab0316 button');\n",
              "      quickchartButtonEl.style.display =\n",
              "        google.colab.kernel.accessAllowed ? 'block' : 'none';\n",
              "    })();\n",
              "  </script>\n",
              "</div>\n",
              "\n",
              "    </div>\n",
              "  </div>\n"
            ],
            "application/vnd.google.colaboratory.intrinsic+json": {
              "type": "dataframe",
              "summary": "{\n  \"name\": \"author_counts\",\n  \"rows\": 3,\n  \"fields\": [\n    {\n      \"column\": \"user\",\n      \"properties\": {\n        \"dtype\": \"string\",\n        \"num_unique_values\": 3,\n        \"samples\": [\n          \"xeno-by\",\n          \"retronym\",\n          \"soc\"\n        ],\n        \"semantic_type\": \"\",\n        \"description\": \"\"\n      }\n    },\n    {\n      \"column\": \"pid\",\n      \"properties\": {\n        \"dtype\": \"number\",\n        \"std\": 3,\n        \"min\": 4,\n        \"max\": 11,\n        \"num_unique_values\": 3,\n        \"samples\": [\n          11,\n          5,\n          4\n        ],\n        \"semantic_type\": \"\",\n        \"description\": \"\"\n      }\n    },\n    {\n      \"column\": \"date\",\n      \"properties\": {\n        \"dtype\": \"number\",\n        \"std\": 3,\n        \"min\": 4,\n        \"max\": 11,\n        \"num_unique_values\": 3,\n        \"samples\": [\n          11,\n          5,\n          4\n        ],\n        \"semantic_type\": \"\",\n        \"description\": \"\"\n      }\n    },\n    {\n      \"column\": \"file\",\n      \"properties\": {\n        \"dtype\": \"number\",\n        \"std\": 3,\n        \"min\": 4,\n        \"max\": 11,\n        \"num_unique_values\": 3,\n        \"samples\": [\n          11,\n          5,\n          4\n        ],\n        \"semantic_type\": \"\",\n        \"description\": \"\"\n      }\n    },\n    {\n      \"column\": \"month\",\n      \"properties\": {\n        \"dtype\": \"number\",\n        \"std\": 3,\n        \"min\": 4,\n        \"max\": 11,\n        \"num_unique_values\": 3,\n        \"samples\": [\n          11,\n          5,\n          4\n        ],\n        \"semantic_type\": \"\",\n        \"description\": \"\"\n      }\n    },\n    {\n      \"column\": \"year\",\n      \"properties\": {\n        \"dtype\": \"number\",\n        \"std\": 3,\n        \"min\": 4,\n        \"max\": 11,\n        \"num_unique_values\": 3,\n        \"samples\": [\n          11,\n          5,\n          4\n        ],\n        \"semantic_type\": \"\",\n        \"description\": \"\"\n      }\n    }\n  ]\n}"
            }
          },
          "metadata": {},
          "execution_count": 13
        }
      ]
    },
    {
      "cell_type": "markdown",
      "source": [
        "open sourse projects suffer from the flucting membership\n",
        "here we will be cheching who made the last ten pull request on a given file?\n"
      ],
      "metadata": {
        "id": "FRluq8A7826k"
      }
    },
    {
      "cell_type": "code",
      "source": [
        "file = 'src/compiler/scala/reflect/reify/phases/Calculate.scala'\n",
        "\n",
        "# Select the pull requests that changed the target file\n",
        "file_pr = pull_files[pull_files['file'] == file]\n",
        "\n",
        "# Merge the obtained results with the pulls DataFrame\n",
        "joined_pr = pulls.merge(file_pr, on='pid')\n",
        "\n",
        "# Find the users of the last 10 most recent pull requests\n",
        "users_last_10 = set(joined_pr.nlargest(10, 'date')['user'])\n",
        "\n",
        "# Printing the results\n",
        "users_last_10"
      ],
      "metadata": {
        "colab": {
          "base_uri": "https://localhost:8080/"
        },
        "id": "BeJDrYqGIzpb",
        "outputId": "8b2db5fe-fca6-48cb-ee20-6aa3f929342a"
      },
      "execution_count": null,
      "outputs": [
        {
          "output_type": "execute_result",
          "data": {
            "text/plain": [
              "{'bjornregnell', 'retronym', 'soc', 'starblood', 'xeno-by', 'zuvizudar'}"
            ]
          },
          "metadata": {},
          "execution_count": 18
        }
      ]
    },
    {
      "cell_type": "markdown",
      "source": [
        "now checking the pull request of the two special developers\n",
        "we will be plotting bar"
      ],
      "metadata": {
        "id": "03QLepc1JRGz"
      }
    },
    {
      "cell_type": "code",
      "source": [
        "author =['xeno-by','soc']\n",
        "by_author = pulls [pulls['user'].isin(author)]\n",
        "#count the number of pulls requested submmitted each year\n",
        "counts = by_author.groupby([by_author['user'],by_author['date'].dt.year]).agg({\"pid\":\"count\"}).reset_index() #reset index\n",
        "count_wide = counts.pivot_table(index='date',columns='user',values = 'pid',fill_value=0)\n",
        "count_wide.plot(kind='bar')\n",
        "\n",
        "\n",
        "\n"
      ],
      "metadata": {
        "colab": {
          "base_uri": "https://localhost:8080/",
          "height": 488
        },
        "id": "Y_AHWPMQI7sX",
        "outputId": "0ec6c6f5-cae8-4040-ab82-4997dc28d941"
      },
      "execution_count": null,
      "outputs": [
        {
          "output_type": "execute_result",
          "data": {
            "text/plain": [
              "<Axes: xlabel='date'>"
            ]
          },
          "metadata": {},
          "execution_count": 19
        },
        {
          "output_type": "display_data",
          "data": {
            "text/plain": [
              "<Figure size 640x480 with 1 Axes>"
            ],
            "image/png": "[encoded data removed]"
          },
          "metadata": {}
        }
      ]
    },
    {
      "cell_type": "markdown",
      "source": [
        " Visualizing the contributions of specific developer"
      ],
      "metadata": {
        "id": "7iZ2LwD_XuH4"
      }
    },
    {
      "cell_type": "code",
      "source": [
        "authors = ['xeno-by', 'soc']\n",
        "file = 'src/compiler/scala/reflect/reify/phases/Calculate.scala'\n",
        "\n",
        "# Select the pull requests submitted by the authors, from the `data` DataFrame\n",
        "by_author = data[data['user'].isin(authors)]\n",
        "\n",
        "# Select the pull requests that affect the file\n",
        "by_file = by_author[by_author['file'] == file]\n",
        "\n",
        "# Group and count the number of PRs done by each user each year\n",
        "grouped = by_file.groupby(['user', by_file['date'].dt.year]).count()['pid'].reset_index()\n",
        "\n",
        "# Transform the data into a wide format\n",
        "by_file_wide = grouped.pivot_table(index='date', columns='user', values='pid', fill_value=0)\n",
        "\n",
        "# Plot the results\n",
        "by_file_wide.plot(kind='bar')"
      ],
      "metadata": {
        "colab": {
          "base_uri": "https://localhost:8080/",
          "height": 488
        },
        "id": "8XdvOrKtXZTp",
        "outputId": "723107bb-4585-4ee4-feb5-14e01d2f53ca"
      },
      "execution_count": null,
      "outputs": [
        {
          "output_type": "execute_result",
          "data": {
            "text/plain": [
              "<Axes: xlabel='date'>"
            ]
          },
          "metadata": {},
          "execution_count": 20
        },
        {
          "output_type": "display_data",
          "data": {
            "text/plain": [
              "<Figure size 640x480 with 1 Axes>"
            ],
            "image/png": "[encoded data removed]"
          },
          "metadata": {}
        }
      ]
    },
    {
      "cell_type": "code",
      "source": [],
      "metadata": {
        "id": "_8nqgwNya1uu"
      },
      "execution_count": null,
      "outputs": []
    }
  ]
}